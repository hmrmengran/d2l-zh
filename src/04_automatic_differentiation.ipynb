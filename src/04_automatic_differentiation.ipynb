{
 "cells": [
  {
   "cell_type": "code",
   "id": "initial_id",
   "metadata": {
    "collapsed": true,
    "ExecuteTime": {
     "end_time": "2024-10-05T12:22:57.546856Z",
     "start_time": "2024-10-05T12:22:57.540705Z"
    }
   },
   "source": [
    "import torch\n",
    "\n",
    "# 作为一个演示例子，假设我们想对函数y = 2x ⊤ x关于列向量x求导。首先，我们创建变量x并为其分配一个初始值。\n",
    "x = torch.arange(4.0)\n",
    "x"
   ],
   "outputs": [
    {
     "data": {
      "text/plain": [
       "tensor([0., 1., 2., 3.])"
      ]
     },
     "execution_count": 5,
     "metadata": {},
     "output_type": "execute_result"
    }
   ],
   "execution_count": 5
  },
  {
   "metadata": {
    "ExecuteTime": {
     "end_time": "2024-10-05T12:23:17.729520Z",
     "start_time": "2024-10-05T12:23:17.726789Z"
    }
   },
   "cell_type": "code",
   "source": [
    "# 在我们计算y关于x的梯度之前，需要一个地方来存储梯度。重要的是，我们不会在每次对一个参数求导时都\n",
    "# 分配新的内存。因为我们经常会成千上万次地更新相同的参数，每次都分配新的内存可能很快就会将内存耗尽。\n",
    "# 注意，一个标量函数关于向量x的梯度是向量，并且与x具有相同的形状。\n",
    "\n",
    "x.requires_grad_(True)  # 等价于 `x = torch.arange(4.0, requires_grad=True)`\n",
    "x.grad  # 默认值是None"
   ],
   "id": "fd3b08636f21c29b",
   "outputs": [],
   "execution_count": 7
  },
  {
   "metadata": {
    "ExecuteTime": {
     "end_time": "2024-10-05T12:47:08.768991Z",
     "start_time": "2024-10-05T12:47:08.763654Z"
    }
   },
   "cell_type": "code",
   "source": [
    "# 现在让我们计算y。由于x是一个长度为4的向量，我们得到的y是一个标量。\n",
    "y = 2 * torch.dot(x, x)\n",
    "y"
   ],
   "id": "531e896e1a728bb4",
   "outputs": [
    {
     "data": {
      "text/plain": [
       "tensor(28., grad_fn=<MulBackward0>)"
      ]
     },
     "execution_count": 12,
     "metadata": {},
     "output_type": "execute_result"
    }
   ],
   "execution_count": 12
  },
  {
   "metadata": {
    "ExecuteTime": {
     "end_time": "2024-10-05T12:47:10.468354Z",
     "start_time": "2024-10-05T12:47:10.463914Z"
    }
   },
   "cell_type": "code",
   "source": [
    "# x是一个长度为4的向量，计算x和x的点积，得到了我们赋值给y的标量输出。\n",
    "# 接下来，通过调用反向传播函数来自动计算y关于x每个分量的梯度，并打印这些梯度。\n",
    "y.backward()\n",
    "x.grad"
   ],
   "id": "b406f781fb85c588",
   "outputs": [
    {
     "data": {
      "text/plain": [
       "tensor([ 0.,  8., 16., 24.])"
      ]
     },
     "execution_count": 13,
     "metadata": {},
     "output_type": "execute_result"
    }
   ],
   "execution_count": 13
  },
  {
   "metadata": {
    "ExecuteTime": {
     "end_time": "2024-10-05T12:48:36.404561Z",
     "start_time": "2024-10-05T12:48:36.400887Z"
    }
   },
   "cell_type": "code",
   "source": [
    "# 现在计算x的另一个函数\n",
    "\n",
    "# 在默认情况下，PyTorch会累积梯度，我们需要清除之前的值\n",
    "x.grad.zero_()\n",
    "y = x.sum()\n",
    "y.backward()\n",
    "x.grad"
   ],
   "id": "abea152faab7ee6c",
   "outputs": [
    {
     "data": {
      "text/plain": [
       "tensor([1., 1., 1., 1.])"
      ]
     },
     "execution_count": 14,
     "metadata": {},
     "output_type": "execute_result"
    }
   ],
   "execution_count": 14
  },
  {
   "metadata": {
    "ExecuteTime": {
     "end_time": "2024-10-05T13:03:02.661446Z",
     "start_time": "2024-10-05T13:03:02.657412Z"
    }
   },
   "cell_type": "code",
   "source": [
    "# 非标量变量的反向传播\n",
    "# 当y不是一个标量时，向量y关于向量x的导数的最自然解释是一个矩阵。\n",
    "# 对于高阶和高维的y和x，求导的结果可以是一个高阶张量。\n",
    "\n",
    "# 然而，虽然这些更奇特的对象确实出现在高级机器学习中（包括深度学习中），但当调用向量的反向计算时，\n",
    "# 我们通常会试图计算一批训练样本中每个组成部分的损失函数的导数。\n",
    "# 这里，我们的目的不是计算微分矩阵，而是单独计算批量中每个样本的偏导数之和。\n",
    "\n",
    "# 在 PyTorch 中，backward() 函数用于计算张量的梯度。默认情况下，backward() 操作只适用于标量（即只有一个值的张量），因为它会自动计算该标量相对于网络参数的梯度。\n",
    "# 然而，当你对非标量张量调用 backward() 时，PyTorch 需要你明确传递一个 gradient 参数，告诉它这个非标量的每个分量应该怎么对参数求导。\n",
    "\n",
    "# 具体解释：\n",
    "# 1.标量的情况： \n",
    "#   当你对标量调用 backward() 时，默认情况下它假设标量是网络最终的输出，也就是标量相对于自己的梯度为 1。因此，backward() 函数能顺利计算出网络参数的梯度。\n",
    "# 2.非标量的情况： \n",
    "#   当你对非标量（比如一个向量或矩阵）调用 backward() 时，PyTorch 无法自动知道如何计算梯度，因为非标量张量有多个值，它不知道每个值如何对网络参数求导。\n",
    "#   因此，你需要通过 gradient 参数，提供一个和非标量 y 形状相同的张量，表示这个非标量相对于网络输出的梯度。\n",
    "# 3.传递梯度参数：\n",
    "#   y.backward(torch.ones_like(y))：当你传递一个全 1 的张量时，表示对 y 的每个元素都使用相同的权重（即假设它们对网络输出的贡献相等）。这是在你只关心所有偏导数的总和时常用的做法。\n",
    "#   y.sum().backward()：这和传递一个全 1 的 gradient 类似，因为 y.sum() 是标量，所以它的梯度传播只需要传递 1。\n",
    "\n",
    "# 什么时候销毁计算图：\n",
    "# 1.构建计算图的时机：计算图是在前向传播过程中，随着每次对 requires_grad=True 的张量进行操作时即时构建的。\n",
    "# 2.释放计算图的时机：通常情况下，计算图在反向传播完成后会被销毁，除非你明确要求保留它。\n",
    "\n",
    "\n",
    "# 对非标量调用backward需要传入一个gradient参数，该参数指定微分函数关于self的梯度。\n",
    "# 本例只想求偏导数的和，所以传递一个1的梯度是合适的\n",
    "x.grad.zero_()\n",
    "y = x * x\n",
    "# 等价于y.backward(torch.ones(len(x)))\n",
    "y.sum().backward()\n",
    "x.grad"
   ],
   "id": "e95f70acc3e5b34f",
   "outputs": [
    {
     "data": {
      "text/plain": [
       "tensor([0., 2., 4., 6.])"
      ]
     },
     "execution_count": 15,
     "metadata": {},
     "output_type": "execute_result"
    }
   ],
   "execution_count": 15
  },
  {
   "metadata": {
    "ExecuteTime": {
     "end_time": "2024-10-06T00:49:27.991598Z",
     "start_time": "2024-10-06T00:49:27.986496Z"
    }
   },
   "cell_type": "code",
   "source": [
    "# 分离计算\n",
    "# 有时，我们希望将某些计算移动到记录的计算图之外。例如，假设y是作为x的函数计算的，而z则是作为y和x的函数计算的。\n",
    "# 想象一下，我们想计算z关于x的梯度，但由于某种原因，希望将y视为一个常数，并且只考虑到x在y被计算后发挥的作用。\n",
    "# 这里可以分离y来返回一个新变量u，该变量与y具有相同的值，但丢弃计算图中如何计算y的任何信息。\n",
    "# 换句话说，梯度不会向后流经u到x。因此，下面的反向传播函数计算z=u*x关于x的偏导数，同时将u作为常数处理，而不是z=x*x*x关于x的偏导数。\n",
    "x.grad.zero_()\n",
    "y = x * x\n",
    "u = y.detach()\n",
    "z = u * x\n",
    "z.sum().backward()\n",
    "x.grad == u"
   ],
   "id": "c8727f65dfb17881",
   "outputs": [
    {
     "data": {
      "text/plain": [
       "tensor([True, True, True, True])"
      ]
     },
     "execution_count": 21,
     "metadata": {},
     "output_type": "execute_result"
    }
   ],
   "execution_count": 21
  },
  {
   "metadata": {
    "ExecuteTime": {
     "end_time": "2024-10-06T00:49:29.745810Z",
     "start_time": "2024-10-06T00:49:29.741011Z"
    }
   },
   "cell_type": "code",
   "source": [
    "# 由于记录了y的计算结果，我们可以随后在y上调用反向传播，得到y=x*x关于的x的导数，即2*x\n",
    "x.grad.zero_()\n",
    "y.sum().backward()\n",
    "x.grad == 2 * x"
   ],
   "id": "36f152e604c8eb52",
   "outputs": [
    {
     "data": {
      "text/plain": [
       "tensor([True, True, True, True])"
      ]
     },
     "execution_count": 22,
     "metadata": {},
     "output_type": "execute_result"
    }
   ],
   "execution_count": 22
  },
  {
   "metadata": {},
   "cell_type": "code",
   "outputs": [],
   "execution_count": null,
   "source": "",
   "id": "1c419881519fb63e"
  },
  {
   "metadata": {
    "ExecuteTime": {
     "end_time": "2024-10-06T02:51:13.334252Z",
     "start_time": "2024-10-06T02:51:13.328854Z"
    }
   },
   "cell_type": "code",
   "source": [
    "# Python控制流的梯度计算\n",
    "def f(a):\n",
    "    b = a * 2\n",
    "    while b.norm() < 1000:\n",
    "        b = b * 2\n",
    "    if b.sum() > 0:\n",
    "        c = b\n",
    "    else:\n",
    "        c = 100 * b\n",
    "    return c\n",
    "\n",
    "# 从正态分布中生成的随机标量（形状为 () 的张量）\n",
    "a =torch.randn(size=(), requires_grad=True)\n",
    "print(a)\n",
    "d =f(a)\n",
    "# d.backward()\n",
    "d.backward()\n",
    "a.grad == d / a"
   ],
   "id": "b8fab6592b791a13",
   "outputs": [
    {
     "name": "stdout",
     "output_type": "stream",
     "text": [
      "tensor(0.0065, requires_grad=True)\n"
     ]
    },
    {
     "data": {
      "text/plain": [
       "tensor(True)"
      ]
     },
     "execution_count": 50,
     "metadata": {},
     "output_type": "execute_result"
    }
   ],
   "execution_count": 50
  }
 ],
 "metadata": {
  "kernelspec": {
   "display_name": "Python 3",
   "language": "python",
   "name": "python3"
  },
  "language_info": {
   "codemirror_mode": {
    "name": "ipython",
    "version": 2
   },
   "file_extension": ".py",
   "mimetype": "text/x-python",
   "name": "python",
   "nbconvert_exporter": "python",
   "pygments_lexer": "ipython2",
   "version": "2.7.6"
  }
 },
 "nbformat": 4,
 "nbformat_minor": 5
}
