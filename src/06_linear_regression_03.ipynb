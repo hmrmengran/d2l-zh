{
 "cells": [
  {
   "metadata": {
    "ExecuteTime": {
     "end_time": "2024-10-27T14:24:40.417038Z",
     "start_time": "2024-10-27T14:24:38.285032Z"
    }
   },
   "cell_type": "code",
   "source": [
    "# 3.3 线性回归的简洁实现\n",
    "# 在过去的几年里，出于对深度学习强烈的兴趣，许多公司、学者和业余爱好者开发了各种成熟的开源框架。\n",
    "# 这些框架可以自动化基于梯度的学习算法中重复性的工作。\n",
    "# 在 3.2节中，我们只运用了：\n",
    "#（1）通过张量来进行数据存储和线性代数；\n",
    "#（2）通过自动微分来计算梯度。实际上，由于数据迭代器、损失函数、优化器和神经网络层很常用，现代深度学习库也为我们实现了这些组件。\n",
    "# 本节将介绍如何通过使用深度学习框架来简洁地实现 3.2节中的线性回归模型。\n",
    "import numpy as np\n",
    "import torch\n",
    "from torch.utils import data\n",
    "from d2l import torch as d2l\n",
    "\n",
    "\n",
    "\n",
    "# 3.3.1 生成数据集\n",
    "true_w = torch.tensor([2, -3.4])\n",
    "true_b = 4.2\n",
    "features, labels = d2l.synthetic_data(true_w, true_b, 1000)\n",
    "\n",
    "\n",
    "# 3.3.2 读取数据集\n",
    "def load_array(data_arrays, batch_size, is_train=True): #@save\n",
    "    \"\"\"构造一个PyTorch数据迭代器\"\"\"\n",
    "    dataset = data.TensorDataset(*data_arrays)\n",
    "    return data.DataLoader(dataset, batch_size, shuffle=is_train)\n",
    "\n",
    "batch_size = 10\n",
    "data_iter = load_array((features, labels), batch_size)"
   ],
   "id": "c22dc7402651e5ca",
   "outputs": [],
   "execution_count": 1
  }
 ],
 "metadata": {
  "kernelspec": {
   "display_name": "Python 3",
   "language": "python",
   "name": "python3"
  },
  "language_info": {
   "codemirror_mode": {
    "name": "ipython",
    "version": 2
   },
   "file_extension": ".py",
   "mimetype": "text/x-python",
   "name": "python",
   "nbconvert_exporter": "python",
   "pygments_lexer": "ipython2",
   "version": "2.7.6"
  }
 },
 "nbformat": 4,
 "nbformat_minor": 5
}
